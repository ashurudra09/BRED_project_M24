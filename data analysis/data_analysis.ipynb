{
 "cells": [
  {
   "metadata": {},
   "cell_type": "markdown",
   "source": [
    "# Data Analysis:\n",
    "\n",
    "### Required Libraries:"
   ],
   "id": "d4f6e56f5f52389f"
  },
  {
   "cell_type": "code",
   "execution_count": null,
   "id": "initial_id",
   "metadata": {
    "collapsed": true
   },
   "outputs": [],
   "source": [
    "import pandas as pd\n",
    "import numpy as np\n",
    "import matplotlib.pyplot as plt\n",
    "from scipy import stats"
   ]
  },
  {
   "metadata": {},
   "cell_type": "markdown",
   "source": "### Importing and pre-processing data:",
   "id": "ecc1ce0877d37a75"
  },
  {
   "metadata": {},
   "cell_type": "code",
   "outputs": [],
   "execution_count": null,
   "source": [
    "df = pd.read_csv(\"PsyToolkitData_BRED_PROJECT_5_Nov/data.csv\")\n",
    "# print(df.columns)\n",
    "\n",
    "def convert_group(a):\n",
    "    if a == 1:\n",
    "        return \"walking\"\n",
    "    if a == 2:\n",
    "        return \"joystick\"\n",
    "    return \"invalid\"\n",
    "\n",
    "def convert_gender(a):\n",
    "    if a == 1:\n",
    "        return \"woman\"\n",
    "    if a == 2:\n",
    "        return \"man\"\n",
    "    return \"other\"\n",
    "\n",
    "def preprocessing_data():\n",
    "    df[\"condition\"] = df[\"psy_group\"].apply(convert_group)\n",
    "    df[\"gender\"] = df[\"d_gender_1\"].apply(convert_gender)"
   ],
   "id": "9607e50ca4f4dfca"
  },
  {
   "metadata": {},
   "cell_type": "markdown",
   "source": "### Function to get General Statistics:",
   "id": "552f45624e3b74ac"
  },
  {
   "metadata": {},
   "cell_type": "code",
   "outputs": [],
   "execution_count": null,
   "source": [
    "def lists_stats(walking, joystick, thing):\n",
    "    # Calculate statistics for walking\n",
    "    mean1 = np.mean(walking)\n",
    "    median1 = np.median(walking)\n",
    "    mode1 = stats.mode(walking, keepdims=True)[0][0]\n",
    "    std_dev1 = np.std(walking)\n",
    "\n",
    "    # Calculate outliers for walking using IQR\n",
    "    q1_1, q3_1 = np.percentile(walking, [25, 75])\n",
    "    iqr1 = q3_1 - q1_1\n",
    "    lower_bound1 = q1_1 - 1.5 * iqr1\n",
    "    upper_bound1 = q3_1 + 1.5 * iqr1\n",
    "    outliers1 = [v for v in walking if v < lower_bound1 or v > upper_bound1]\n",
    "\n",
    "    # Calculate statistics for joystick\n",
    "    mean2 = np.mean(joystick)\n",
    "    median2 = np.median(joystick)\n",
    "    mode2 = stats.mode(joystick, keepdims=True)[0][0]\n",
    "    std_dev2 = np.std(joystick)\n",
    "\n",
    "    # Calculate outliers for joystick using IQR\n",
    "    q1_2, q3_2 = np.percentile(joystick, [25, 75])\n",
    "    iqr2 = q3_2 - q1_2\n",
    "    lower_bound2 = q1_2 - 1.5 * iqr2\n",
    "    upper_bound2 = q3_2 + 1.5 * iqr2\n",
    "    outliers2 = [v for v in joystick if v < lower_bound2 or v > upper_bound2]\n",
    "\n",
    "    # Print the statistics and outliers\n",
    "    print(f\"Walking Statistics for {thing}:\")\n",
    "    print(f\"Mean: {mean1}\")\n",
    "    print(f\"Median: {median1}\")\n",
    "    print(f\"Mode: {mode1}\")\n",
    "    print(f\"Standard Deviation: {std_dev1}\")\n",
    "    print(f\"Outliers: {outliers1}\\n\")\n",
    "\n",
    "    print(f\"Joystick Statistics for {thing}:\")\n",
    "    print(f\"Mean: {mean2}\")\n",
    "    print(f\"Median: {median2}\")\n",
    "    print(f\"Mode: {mode2}\")\n",
    "    print(f\"Standard Deviation: {std_dev2}\")\n",
    "    print(f\"Outliers: {outliers2}\\n\")"
   ],
   "id": "def6cea5591c2e65"
  },
  {
   "metadata": {},
   "cell_type": "markdown",
   "source": "### Functions to Plot Data:",
   "id": "d5a57c398381baab"
  },
  {
   "metadata": {},
   "cell_type": "code",
   "outputs": [],
   "execution_count": null,
   "source": [
    "def lists_boxplot(walking, joystick, labels):\n",
    "    # Plot combined box plot\n",
    "    plt.boxplot([walking, joystick], vert=True, labels=['Walking', 'Joystick'])\n",
    "    plt.title(f\"Box Plots of {labels[0]} for the two {labels[1]}s\")\n",
    "    plt.ylabel(labels[0])\n",
    "    plt.xlabel(labels[1])\n",
    "    plt.show()\n",
    "\n",
    "def lists_histogram(walking, joystick, bins):\n",
    "\n",
    "    plt.figure(figsize=(10, 6))\n",
    "    plt.hist(walking, bins=bins, color=\"blue\", alpha=0.5, edgecolor=\"black\", label=\"Walking\", align='left')\n",
    "    plt.hist(joystick, bins=bins, color=\"red\", alpha=0.5, edgecolor=\"black\", label=\"Joystick\", align='left')\n",
    "\n",
    "    # Labels and title\n",
    "    plt.xlabel(\"Number of Correct Objects\")\n",
    "    plt.ylabel(\"Frequency\")\n",
    "    plt.title(\"Histogram of Objects Correctly Placed for Each Condition\")\n",
    "    plt.xticks(range(5))  # Set x-ticks to be at each bin center for clarity\n",
    "    plt.legend()\n",
    "    plt.show()"
   ],
   "id": "da6c5b322f4f99bc"
  },
  {
   "metadata": {},
   "cell_type": "markdown",
   "source": "### Functions for Analysis:",
   "id": "227fd01fb1794e52"
  },
  {
   "metadata": {},
   "cell_type": "code",
   "outputs": [],
   "execution_count": null,
   "source": [
    "def demographic_analysis():\n",
    "    print(df[\"gender\"].value_counts())\n",
    "    print(\"Average age:\", df[\"d_age_1\"].mean())\n",
    "    print(\"Number of participants in each\", df[\"condition\"].value_counts())\n",
    "    print(\"Average time taken for completion of entire experiment:\", df[\"TIME_total\"].mean())\n",
    "\n",
    "def ssq_analysis():\n",
    "    nausea = [1, 0, 0, 0, 0, 1, 1, 1, 1, 0, 0, 0, 0, 1, 1]\n",
    "    oculomotor = [1, 1, 1, 1, 1, 0, 0, 0, 1, 0, 1, 0, 0, 0, 0]\n",
    "    disorientation = [0, 0, 0, 0, 1, 0, 0, 1, 0, 1, 1, 2, 1, 0, 0]\n",
    "\n",
    "    v_question_columns = [col for col in df.columns if col.startswith('v_questions')]\n",
    "    # Calculate the mean across 'v_questions' columns for each 'condition'\n",
    "    grouped_means = df.groupby('condition')[v_question_columns].mean()\n",
    "    # Convert each row of means to a list for each unique 'condition' value\n",
    "    result = {group: row.tolist() for group, row in grouped_means.iterrows()}\n",
    "    # print(result)\n",
    "\n",
    "    # Final score multiplier\n",
    "    final_multiplier = 3.74\n",
    "    # Calculate the final scores for each 'condition'\n",
    "    final_scores = {}\n",
    "    for group, scores in result.items():\n",
    "        # Calculate weighted sums for each category\n",
    "        nausea_score = sum(s * w for s, w in zip(scores, nausea))\n",
    "        oculomotor_score = sum(s * w for s, w in zip(scores, oculomotor))\n",
    "        disorientation_score = sum(s * w for s, w in zip(scores, disorientation))\n",
    "        # Sum of all categories and apply final multiplier\n",
    "        total_score = (nausea_score + oculomotor_score + disorientation_score) * final_multiplier\n",
    "        final_scores[group] = total_score\n",
    "\n",
    "    print(\"SSQ scores (out of 300 approx.): \", final_scores)\n",
    "\n",
    "def presence_analysis():\n",
    "    joystick_scores = df[\"presence_overall_1\"][df[\"condition\"] == 'joystick'].tolist()\n",
    "    walking_scores = df[\"presence_overall_1\"][df[\"condition\"] == 'walking'].tolist()\n",
    "    lists_stats(walking_scores, joystick_scores, \"Presence\")\n",
    "    lists_boxplot(walking_scores, joystick_scores,\n",
    "                  [\"Overall Presence\", \"Condition\"])\n",
    "\n",
    "def task_performance():\n",
    "    joystick_times = df[\"joystick_time_1\"][df[\"condition\"] == 'joystick'].tolist()\n",
    "    walking_times = df[\"walking_time_1\"][df[\"condition\"] == 'walking'].tolist()\n",
    "    lists_stats(walking_times, joystick_times,\n",
    "                \"Time for Task Completion\")\n",
    "    lists_boxplot(walking_times, joystick_times,\n",
    "                  [\"Time Taken (in s)\", \"Condition\"])\n",
    "\n",
    "    joystick_scores = df[\"joystick_score_1\"][df[\"condition\"] == 'joystick'].tolist()\n",
    "    walking_scores = df[\"walking_score_1\"][df[\"condition\"] == 'walking'].tolist()\n",
    "    lists_stats(walking_scores, joystick_scores,\n",
    "                \"Objects Correctly Placed\")\n",
    "    lists_histogram(walking_scores, joystick_scores,\n",
    "                    [0, 1, 2, 3, 4, 5])"
   ],
   "id": "e0b70c2ed1de2614"
  },
  {
   "metadata": {},
   "cell_type": "markdown",
   "source": "## Analysis:",
   "id": "8f48fe07180ccafb"
  },
  {
   "metadata": {},
   "cell_type": "markdown",
   "source": "### 1) Demographic Analysis:",
   "id": "ee4a3573927c2aac"
  },
  {
   "metadata": {},
   "cell_type": "code",
   "outputs": [],
   "execution_count": null,
   "source": [
    "preprocessing_data()\n",
    "demographic_analysis()"
   ],
   "id": "d8c0d1d665956d30"
  },
  {
   "metadata": {},
   "cell_type": "markdown",
   "source": "### 2) Simulator Sickness Analysis:",
   "id": "83a615e63135f450"
  },
  {
   "metadata": {},
   "cell_type": "code",
   "outputs": [],
   "execution_count": null,
   "source": [
    "preprocessing_data()\n",
    "ssq_analysis()"
   ],
   "id": "83b05173ec327508"
  },
  {
   "metadata": {},
   "cell_type": "markdown",
   "source": "### 3) Presence Analysis:",
   "id": "7e7be5118549abbe"
  },
  {
   "metadata": {},
   "cell_type": "code",
   "outputs": [],
   "execution_count": null,
   "source": [
    "preprocessing_data()\n",
    "presence_analysis()"
   ],
   "id": "25af04111cdf7a18"
  },
  {
   "metadata": {},
   "cell_type": "markdown",
   "source": "### 4) Task Performance Analysis:",
   "id": "43fe3b593266c2bf"
  },
  {
   "metadata": {},
   "cell_type": "code",
   "outputs": [],
   "execution_count": null,
   "source": [
    "preprocessing_data()\n",
    "task_performance()"
   ],
   "id": "d5dbb9d2b85d0ceb"
  }
 ],
 "metadata": {
  "kernelspec": {
   "display_name": "Python 3",
   "language": "python",
   "name": "python3"
  },
  "language_info": {
   "codemirror_mode": {
    "name": "ipython",
    "version": 2
   },
   "file_extension": ".py",
   "mimetype": "text/x-python",
   "name": "python",
   "nbconvert_exporter": "python",
   "pygments_lexer": "ipython2",
   "version": "2.7.6"
  }
 },
 "nbformat": 4,
 "nbformat_minor": 5
}
